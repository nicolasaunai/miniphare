{
 "cells": [
  {
   "cell_type": "code",
   "execution_count": 1,
   "metadata": {
    "collapsed": true
   },
   "outputs": [],
   "source": [
    "import numpy as np\n",
    "import matplotlib.pyplot as plt\n",
    "import scipy.integrate as scint\n",
    "import mpl_toolkits.mplot3d as mplt3d\n",
    "import math\n",
    "#from math import factorial\n",
    "#%matplotlib inline"
   ]
  },
  {
   "cell_type": "code",
   "execution_count": null,
   "metadata": {
    "collapsed": true
   },
   "outputs": [],
   "source": []
  },
  {
   "cell_type": "code",
   "execution_count": 8,
   "metadata": {
    "collapsed": false
   },
   "outputs": [],
   "source": [
    "split_tab = np.zeros((100, 10))"
   ]
  },
  {
   "cell_type": "code",
   "execution_count": null,
   "metadata": {
    "collapsed": true
   },
   "outputs": [],
   "source": []
  },
  {
   "cell_type": "code",
   "execution_count": 27,
   "metadata": {
    "collapsed": true
   },
   "outputs": [],
   "source": [
    "paramList = ['interpOrder', 'nbDims', 'Quantity', 'nbrCellX', 'nbrCellY', 'nbrCellZ', 'dx', 'dy', 'dz'];"
   ]
  },
  {
   "cell_type": "code",
   "execution_count": 28,
   "metadata": {
    "collapsed": false
   },
   "outputs": [
    {
     "data": {
      "text/plain": [
       "9"
      ]
     },
     "execution_count": 28,
     "metadata": {},
     "output_type": "execute_result"
    }
   ],
   "source": [
    "len( paramList )"
   ]
  },
  {
   "cell_type": "code",
   "execution_count": null,
   "metadata": {
    "collapsed": true
   },
   "outputs": [],
   "source": []
  },
  {
   "cell_type": "code",
   "execution_count": 35,
   "metadata": {
    "collapsed": false
   },
   "outputs": [
    {
     "name": "stdout",
     "output_type": "stream",
     "text": [
      "['interpOrder', 'nbDims', 'Quantity', 'nbrCellX', 'nbrCellY', 'nbrCellZ', 'dx', 'dy', 'dz']\n"
     ]
    }
   ],
   "source": [
    "print( paramList[:] )"
   ]
  },
  {
   "cell_type": "code",
   "execution_count": 34,
   "metadata": {
    "collapsed": false
   },
   "outputs": [
    {
     "name": "stdout",
     "output_type": "stream",
     "text": [
      "Quantity\n"
     ]
    }
   ],
   "source": [
    "print( paramList[2] )"
   ]
  },
  {
   "cell_type": "code",
   "execution_count": null,
   "metadata": {
    "collapsed": true
   },
   "outputs": [],
   "source": []
  },
  {
   "cell_type": "code",
   "execution_count": null,
   "metadata": {
    "collapsed": true
   },
   "outputs": [],
   "source": []
  },
  {
   "cell_type": "code",
   "execution_count": 43,
   "metadata": {
    "collapsed": false
   },
   "outputs": [
    {
     "name": "stdout",
     "output_type": "stream",
     "text": [
      "108\n"
     ]
    }
   ],
   "source": [
    "interpOrder_l=[1, 2, 3, 4]\n",
    "\n",
    "nbDims_l=[1, 2, 3] \n",
    "\n",
    "#Qty_l=['Bx', 'By', 'Bz', 'Ex', 'Ey', 'Ez', 'rho', 'V', 'P']\n",
    "Qty_l=[0, 1, 2, 3, 4, 5, 6, 7, 8]\n",
    "\n",
    "nbrCellX_l=[40, 40, 40]\n",
    "nbrCellY_l=[ 0, 10, 10]\n",
    "nbrCellZ_l=[ 0,  0, 10]\n",
    "\n",
    "dx_l=[0.1, 0.1, 0.1] # 1D, 2D and 3D cases \n",
    "dy_l=[0. , 0.1, 0.1]\n",
    "dz_l=[0. , 0. , 0.1]\n",
    "\n",
    "nbrTestCases = len(interpOrder_l)*len(nbDims_l)*len(Qty_l)\n",
    "print( nbrTestCases )\n"
   ]
  },
  {
   "cell_type": "code",
   "execution_count": 44,
   "metadata": {
    "collapsed": true
   },
   "outputs": [],
   "source": [
    "caseParamsTable = np.zeros((nbrTestCases, len(paramList)))"
   ]
  },
  {
   "cell_type": "code",
   "execution_count": null,
   "metadata": {
    "collapsed": true
   },
   "outputs": [],
   "source": []
  },
  {
   "cell_type": "code",
   "execution_count": 33,
   "metadata": {
    "collapsed": false
   },
   "outputs": [
    {
     "name": "stdout",
     "output_type": "stream",
     "text": [
      "[0 1 2 3 4 5 6 7 8]\n"
     ]
    }
   ],
   "source": [
    "col_l = np.arange( len(paramList) )\n",
    "print( col_l )"
   ]
  },
  {
   "cell_type": "code",
   "execution_count": null,
   "metadata": {
    "collapsed": true
   },
   "outputs": [],
   "source": []
  },
  {
   "cell_type": "code",
   "execution_count": 45,
   "metadata": {
    "collapsed": false
   },
   "outputs": [
    {
     "name": "stdout",
     "output_type": "stream",
     "text": [
      "[0 1 2 3]\n",
      "[0 1 2]\n",
      "[0 1 2 3 4 5 6 7 8]\n"
     ]
    }
   ],
   "source": [
    "iord_l=np.arange( len(interpOrder_l) ) \n",
    "print( iord_l )\n",
    "idim_l=np.arange( len(nbDims_l) ) \n",
    "print( idim_l )\n",
    "iqty_l=np.arange( len(Qty_l) ) \n",
    "print( iqty_l )"
   ]
  },
  {
   "cell_type": "code",
   "execution_count": null,
   "metadata": {
    "collapsed": true
   },
   "outputs": [],
   "source": []
  },
  {
   "cell_type": "code",
   "execution_count": 46,
   "metadata": {
    "collapsed": false
   },
   "outputs": [],
   "source": [
    "#  data_[iz + shape_[2]*iy + shape_[1]*shape_[2]*ix]; \n",
    "#icase = 0\n",
    "for iord in iord_l:\n",
    "    for idim in idim_l:\n",
    "        for iqty in iqty_l:\n",
    "            caseParamsTable[iqty + len(Qty_l)*idim + len(nbDims_l)*len(Qty_l)*iord, 0] = interpOrder_l[iord]\n",
    "            caseParamsTable[iqty + len(Qty_l)*idim + len(nbDims_l)*len(Qty_l)*iord, 1] = nbDims_l[idim]\n",
    "            caseParamsTable[iqty + len(Qty_l)*idim + len(nbDims_l)*len(Qty_l)*iord, 2] = Qty_l[iqty]\n",
    "            caseParamsTable[iqty + len(Qty_l)*idim + len(nbDims_l)*len(Qty_l)*iord, 3] = nbrCellX_l[idim]\n",
    "            caseParamsTable[iqty + len(Qty_l)*idim + len(nbDims_l)*len(Qty_l)*iord, 4] = nbrCellY_l[idim]\n",
    "            caseParamsTable[iqty + len(Qty_l)*idim + len(nbDims_l)*len(Qty_l)*iord, 5] = nbrCellZ_l[idim]\n",
    "            caseParamsTable[iqty + len(Qty_l)*idim + len(nbDims_l)*len(Qty_l)*iord, 6] = dx_l[idim]\n",
    "            caseParamsTable[iqty + len(Qty_l)*idim + len(nbDims_l)*len(Qty_l)*iord, 7] = dy_l[idim]\n",
    "            caseParamsTable[iqty + len(Qty_l)*idim + len(nbDims_l)*len(Qty_l)*iord, 8] = dz_l[idim]"
   ]
  },
  {
   "cell_type": "code",
   "execution_count": 47,
   "metadata": {
    "collapsed": false
   },
   "outputs": [
    {
     "name": "stdout",
     "output_type": "stream",
     "text": [
      "[[  1.    1.    0.   40.    0.    0.    0.1   0.    0. ]\n",
      " [  1.    1.    1.   40.    0.    0.    0.1   0.    0. ]\n",
      " [  1.    1.    2.   40.    0.    0.    0.1   0.    0. ]\n",
      " [  1.    1.    3.   40.    0.    0.    0.1   0.    0. ]\n",
      " [  1.    1.    4.   40.    0.    0.    0.1   0.    0. ]\n",
      " [  1.    1.    5.   40.    0.    0.    0.1   0.    0. ]\n",
      " [  1.    1.    6.   40.    0.    0.    0.1   0.    0. ]\n",
      " [  1.    1.    7.   40.    0.    0.    0.1   0.    0. ]\n",
      " [  1.    1.    8.   40.    0.    0.    0.1   0.    0. ]\n",
      " [  1.    2.    0.   40.   10.    0.    0.1   0.1   0. ]\n",
      " [  1.    2.    1.   40.   10.    0.    0.1   0.1   0. ]\n",
      " [  1.    2.    2.   40.   10.    0.    0.1   0.1   0. ]\n",
      " [  1.    2.    3.   40.   10.    0.    0.1   0.1   0. ]\n",
      " [  1.    2.    4.   40.   10.    0.    0.1   0.1   0. ]\n",
      " [  1.    2.    5.   40.   10.    0.    0.1   0.1   0. ]\n",
      " [  1.    2.    6.   40.   10.    0.    0.1   0.1   0. ]\n",
      " [  1.    2.    7.   40.   10.    0.    0.1   0.1   0. ]\n",
      " [  1.    2.    8.   40.   10.    0.    0.1   0.1   0. ]\n",
      " [  1.    3.    0.   40.   10.   10.    0.1   0.1   0.1]\n",
      " [  1.    3.    1.   40.   10.   10.    0.1   0.1   0.1]\n",
      " [  1.    3.    2.   40.   10.   10.    0.1   0.1   0.1]\n",
      " [  1.    3.    3.   40.   10.   10.    0.1   0.1   0.1]\n",
      " [  1.    3.    4.   40.   10.   10.    0.1   0.1   0.1]\n",
      " [  1.    3.    5.   40.   10.   10.    0.1   0.1   0.1]\n",
      " [  1.    3.    6.   40.   10.   10.    0.1   0.1   0.1]\n",
      " [  1.    3.    7.   40.   10.   10.    0.1   0.1   0.1]\n",
      " [  1.    3.    8.   40.   10.   10.    0.1   0.1   0.1]\n",
      " [  2.    1.    0.   40.    0.    0.    0.1   0.    0. ]\n",
      " [  2.    1.    1.   40.    0.    0.    0.1   0.    0. ]\n",
      " [  2.    1.    2.   40.    0.    0.    0.1   0.    0. ]\n",
      " [  2.    1.    3.   40.    0.    0.    0.1   0.    0. ]\n",
      " [  2.    1.    4.   40.    0.    0.    0.1   0.    0. ]\n",
      " [  2.    1.    5.   40.    0.    0.    0.1   0.    0. ]\n",
      " [  2.    1.    6.   40.    0.    0.    0.1   0.    0. ]\n",
      " [  2.    1.    7.   40.    0.    0.    0.1   0.    0. ]\n",
      " [  2.    1.    8.   40.    0.    0.    0.1   0.    0. ]\n",
      " [  2.    2.    0.   40.   10.    0.    0.1   0.1   0. ]\n",
      " [  2.    2.    1.   40.   10.    0.    0.1   0.1   0. ]\n",
      " [  2.    2.    2.   40.   10.    0.    0.1   0.1   0. ]\n",
      " [  2.    2.    3.   40.   10.    0.    0.1   0.1   0. ]\n",
      " [  2.    2.    4.   40.   10.    0.    0.1   0.1   0. ]\n",
      " [  2.    2.    5.   40.   10.    0.    0.1   0.1   0. ]\n",
      " [  2.    2.    6.   40.   10.    0.    0.1   0.1   0. ]\n",
      " [  2.    2.    7.   40.   10.    0.    0.1   0.1   0. ]\n",
      " [  2.    2.    8.   40.   10.    0.    0.1   0.1   0. ]\n",
      " [  2.    3.    0.   40.   10.   10.    0.1   0.1   0.1]\n",
      " [  2.    3.    1.   40.   10.   10.    0.1   0.1   0.1]\n",
      " [  2.    3.    2.   40.   10.   10.    0.1   0.1   0.1]\n",
      " [  2.    3.    3.   40.   10.   10.    0.1   0.1   0.1]\n",
      " [  2.    3.    4.   40.   10.   10.    0.1   0.1   0.1]\n",
      " [  2.    3.    5.   40.   10.   10.    0.1   0.1   0.1]\n",
      " [  2.    3.    6.   40.   10.   10.    0.1   0.1   0.1]\n",
      " [  2.    3.    7.   40.   10.   10.    0.1   0.1   0.1]\n",
      " [  2.    3.    8.   40.   10.   10.    0.1   0.1   0.1]\n",
      " [  3.    1.    0.   40.    0.    0.    0.1   0.    0. ]\n",
      " [  3.    1.    1.   40.    0.    0.    0.1   0.    0. ]\n",
      " [  3.    1.    2.   40.    0.    0.    0.1   0.    0. ]\n",
      " [  3.    1.    3.   40.    0.    0.    0.1   0.    0. ]\n",
      " [  3.    1.    4.   40.    0.    0.    0.1   0.    0. ]\n",
      " [  3.    1.    5.   40.    0.    0.    0.1   0.    0. ]\n",
      " [  3.    1.    6.   40.    0.    0.    0.1   0.    0. ]\n",
      " [  3.    1.    7.   40.    0.    0.    0.1   0.    0. ]\n",
      " [  3.    1.    8.   40.    0.    0.    0.1   0.    0. ]\n",
      " [  3.    2.    0.   40.   10.    0.    0.1   0.1   0. ]\n",
      " [  3.    2.    1.   40.   10.    0.    0.1   0.1   0. ]\n",
      " [  3.    2.    2.   40.   10.    0.    0.1   0.1   0. ]\n",
      " [  3.    2.    3.   40.   10.    0.    0.1   0.1   0. ]\n",
      " [  3.    2.    4.   40.   10.    0.    0.1   0.1   0. ]\n",
      " [  3.    2.    5.   40.   10.    0.    0.1   0.1   0. ]\n",
      " [  3.    2.    6.   40.   10.    0.    0.1   0.1   0. ]\n",
      " [  3.    2.    7.   40.   10.    0.    0.1   0.1   0. ]\n",
      " [  3.    2.    8.   40.   10.    0.    0.1   0.1   0. ]\n",
      " [  3.    3.    0.   40.   10.   10.    0.1   0.1   0.1]\n",
      " [  3.    3.    1.   40.   10.   10.    0.1   0.1   0.1]\n",
      " [  3.    3.    2.   40.   10.   10.    0.1   0.1   0.1]\n",
      " [  3.    3.    3.   40.   10.   10.    0.1   0.1   0.1]\n",
      " [  3.    3.    4.   40.   10.   10.    0.1   0.1   0.1]\n",
      " [  3.    3.    5.   40.   10.   10.    0.1   0.1   0.1]\n",
      " [  3.    3.    6.   40.   10.   10.    0.1   0.1   0.1]\n",
      " [  3.    3.    7.   40.   10.   10.    0.1   0.1   0.1]\n",
      " [  3.    3.    8.   40.   10.   10.    0.1   0.1   0.1]\n",
      " [  4.    1.    0.   40.    0.    0.    0.1   0.    0. ]\n",
      " [  4.    1.    1.   40.    0.    0.    0.1   0.    0. ]\n",
      " [  4.    1.    2.   40.    0.    0.    0.1   0.    0. ]\n",
      " [  4.    1.    3.   40.    0.    0.    0.1   0.    0. ]\n",
      " [  4.    1.    4.   40.    0.    0.    0.1   0.    0. ]\n",
      " [  4.    1.    5.   40.    0.    0.    0.1   0.    0. ]\n",
      " [  4.    1.    6.   40.    0.    0.    0.1   0.    0. ]\n",
      " [  4.    1.    7.   40.    0.    0.    0.1   0.    0. ]\n",
      " [  4.    1.    8.   40.    0.    0.    0.1   0.    0. ]\n",
      " [  4.    2.    0.   40.   10.    0.    0.1   0.1   0. ]\n",
      " [  4.    2.    1.   40.   10.    0.    0.1   0.1   0. ]\n",
      " [  4.    2.    2.   40.   10.    0.    0.1   0.1   0. ]\n",
      " [  4.    2.    3.   40.   10.    0.    0.1   0.1   0. ]\n",
      " [  4.    2.    4.   40.   10.    0.    0.1   0.1   0. ]\n",
      " [  4.    2.    5.   40.   10.    0.    0.1   0.1   0. ]\n",
      " [  4.    2.    6.   40.   10.    0.    0.1   0.1   0. ]\n",
      " [  4.    2.    7.   40.   10.    0.    0.1   0.1   0. ]\n",
      " [  4.    2.    8.   40.   10.    0.    0.1   0.1   0. ]\n",
      " [  4.    3.    0.   40.   10.   10.    0.1   0.1   0.1]\n",
      " [  4.    3.    1.   40.   10.   10.    0.1   0.1   0.1]\n",
      " [  4.    3.    2.   40.   10.   10.    0.1   0.1   0.1]\n",
      " [  4.    3.    3.   40.   10.   10.    0.1   0.1   0.1]\n",
      " [  4.    3.    4.   40.   10.   10.    0.1   0.1   0.1]\n",
      " [  4.    3.    5.   40.   10.   10.    0.1   0.1   0.1]\n",
      " [  4.    3.    6.   40.   10.   10.    0.1   0.1   0.1]\n",
      " [  4.    3.    7.   40.   10.   10.    0.1   0.1   0.1]\n",
      " [  4.    3.    8.   40.   10.   10.    0.1   0.1   0.1]]\n"
     ]
    }
   ],
   "source": [
    "print( caseParamsTable )"
   ]
  },
  {
   "cell_type": "code",
   "execution_count": null,
   "metadata": {
    "collapsed": false
   },
   "outputs": [],
   "source": []
  },
  {
   "cell_type": "code",
   "execution_count": null,
   "metadata": {
    "collapsed": true
   },
   "outputs": [],
   "source": []
  },
  {
   "cell_type": "code",
   "execution_count": null,
   "metadata": {
    "collapsed": true
   },
   "outputs": [],
   "source": []
  },
  {
   "cell_type": "code",
   "execution_count": null,
   "metadata": {
    "collapsed": true
   },
   "outputs": [],
   "source": []
  },
  {
   "cell_type": "code",
   "execution_count": null,
   "metadata": {
    "collapsed": true
   },
   "outputs": [],
   "source": []
  },
  {
   "cell_type": "code",
   "execution_count": null,
   "metadata": {
    "collapsed": true
   },
   "outputs": [],
   "source": []
  },
  {
   "cell_type": "code",
   "execution_count": null,
   "metadata": {
    "collapsed": true
   },
   "outputs": [],
   "source": []
  },
  {
   "cell_type": "code",
   "execution_count": null,
   "metadata": {
    "collapsed": true
   },
   "outputs": [],
   "source": []
  },
  {
   "cell_type": "code",
   "execution_count": null,
   "metadata": {
    "collapsed": true
   },
   "outputs": [],
   "source": []
  },
  {
   "cell_type": "code",
   "execution_count": null,
   "metadata": {
    "collapsed": true
   },
   "outputs": [],
   "source": []
  }
 ],
 "metadata": {
  "kernelspec": {
   "display_name": "Python [Root]",
   "language": "python",
   "name": "Python [Root]"
  },
  "language_info": {
   "codemirror_mode": {
    "name": "ipython",
    "version": 3
   },
   "file_extension": ".py",
   "mimetype": "text/x-python",
   "name": "python",
   "nbconvert_exporter": "python",
   "pygments_lexer": "ipython3",
   "version": "3.5.2"
  }
 },
 "nbformat": 4,
 "nbformat_minor": 0
}
